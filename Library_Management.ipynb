{
 "cells": [
  {
   "cell_type": "code",
   "execution_count": 1,
   "id": "01254f0b-201c-49cc-9fb8-e356293ea1c4",
   "metadata": {},
   "outputs": [],
   "source": [
    "import sqlite3"
   ]
  },
  {
   "cell_type": "code",
   "execution_count": 2,
   "id": "1aac6f73-8152-4659-84a8-96437e8e9965",
   "metadata": {},
   "outputs": [],
   "source": [
    "conn = sqlite3.connect(\"library.db\")\n",
    "cursor = conn.cursor()"
   ]
  },
  {
   "cell_type": "code",
   "execution_count": 3,
   "id": "51b11ae3-d32b-4c71-8e7b-0862ee34c698",
   "metadata": {},
   "outputs": [],
   "source": [
    "cursor.execute(\"\"\"\n",
    "CREATE TABLE IF NOT EXISTS books (\n",
    "    id INTEGER PRIMARY KEY AUTOINCREMENT,\n",
    "    title TEXT NOT NULL,\n",
    "    author TEXT NOT NULL,\n",
    "    year INTEGER,\n",
    "    isbn TEXT UNIQUE,\n",
    "    copies INTEGER DEFAULT 1\n",
    ")\n",
    "\"\"\")\n",
    "conn.commit()"
   ]
  },
  {
   "cell_type": "code",
   "execution_count": 4,
   "id": "dc843fa0-81e6-4ad9-ace5-4b11ef672eeb",
   "metadata": {},
   "outputs": [],
   "source": [
    "def add_book(title, author, year, isbn, copies=1):\n",
    "    cursor.execute(\"INSERT INTO books (title, author, year, isbn, copies) VALUES (?, ?, ?, ?, ?)\", \n",
    "                   (title, author, year, isbn, copies))\n",
    "    conn.commit()"
   ]
  },
  {
   "cell_type": "code",
   "execution_count": 5,
   "id": "01ff637b-62ff-4d9b-864f-eff884ca6080",
   "metadata": {},
   "outputs": [],
   "source": [
    "def view_books():\n",
    "    cursor.execute(\"SELECT * FROM books\")\n",
    "    return cursor.fetchall()"
   ]
  },
  {
   "cell_type": "code",
   "execution_count": 6,
   "id": "350d4dc9-c0f9-4ece-a220-a302ab22686e",
   "metadata": {},
   "outputs": [],
   "source": [
    "def search_books(keyword):\n",
    "    cursor.execute(\"SELECT * FROM books WHERE title LIKE ? OR author LIKE ?\", \n",
    "                   ('%'+keyword+'%', '%'+keyword+'%'))\n",
    "    return cursor.fetchall()"
   ]
  },
  {
   "cell_type": "code",
   "execution_count": 7,
   "id": "43868dac-0fbf-44b2-a49a-457a45a90fc2",
   "metadata": {},
   "outputs": [],
   "source": [
    "def update_book(book_id, title, author, year, isbn, copies):\n",
    "    cursor.execute(\"\"\"UPDATE books SET title=?, author=?, year=?, isbn=?, copies=? WHERE id=?\"\"\", \n",
    "                   (title, author, year, isbn, copies, book_id))\n",
    "    conn.commit()"
   ]
  },
  {
   "cell_type": "code",
   "execution_count": 8,
   "id": "f58ac4a4-582a-49ee-a5da-bedc137cc9e3",
   "metadata": {},
   "outputs": [],
   "source": [
    "def delete_book(book_id):\n",
    "    cursor.execute(\"DELETE FROM books WHERE id=?\", (book_id,))\n",
    "    conn.commit()"
   ]
  },
  {
   "cell_type": "code",
   "execution_count": 9,
   "id": "d9c41713-d3ed-4b96-aabe-9af5303ea7c5",
   "metadata": {},
   "outputs": [],
   "source": [
    "def issue_book(book_id):\n",
    "    cursor.execute(\"SELECT copies FROM books WHERE id=?\", (book_id,))\n",
    "    copies = cursor.fetchone()[0]\n",
    "    if copies > 0:\n",
    "        cursor.execute(\"UPDATE books SET copies = copies - 1 WHERE id=?\", (book_id,))\n",
    "        conn.commit()\n",
    "        return \"Book issued successfully.\"\n",
    "    else:\n",
    "        return \"Book not available.\"\n",
    "\n",
    "def return_book(book_id):\n",
    "    cursor.execute(\"UPDATE books SET copies = copies + 1 WHERE id=?\", (book_id,))\n",
    "    conn.commit()\n",
    "    return \"Book returned successfully.\""
   ]
  },
  {
   "cell_type": "code",
   "execution_count": 10,
   "id": "7f989fb2-76b3-4d34-911e-94f871322b0a",
   "metadata": {},
   "outputs": [],
   "source": [
    "add_book(\"Python Crash Course\", \"Eric Matthes\", 2019, \"12345\", 3)\n",
    "add_book(\"Clean Code\", \"Robert C. Martin\", 2008, \"67890\", 2)\n"
   ]
  },
  {
   "cell_type": "code",
   "execution_count": 11,
   "id": "ab834ee3-3ce2-406a-9204-71667ce45f52",
   "metadata": {},
   "outputs": [
    {
     "name": "stdout",
     "output_type": "stream",
     "text": [
      "[(1, 'Python Crash Course', 'Eric Matthes', 2019, '12345', 3), (2, 'Clean Code', 'Robert C. Martin', 2008, '67890', 2)]\n"
     ]
    }
   ],
   "source": [
    "print(view_books())"
   ]
  },
  {
   "cell_type": "code",
   "execution_count": 12,
   "id": "737199dd-1cda-4658-acd7-34123dee7695",
   "metadata": {},
   "outputs": [
    {
     "name": "stdout",
     "output_type": "stream",
     "text": [
      "[(1, 'Python Crash Course', 'Eric Matthes', 2019, '12345', 3)]\n"
     ]
    }
   ],
   "source": [
    "print(search_books(\"Python\"))"
   ]
  },
  {
   "cell_type": "code",
   "execution_count": 13,
   "id": "d04c43b5-0194-40c5-8e76-a4b345ad4de1",
   "metadata": {},
   "outputs": [
    {
     "name": "stdout",
     "output_type": "stream",
     "text": [
      "Book issued successfully.\n"
     ]
    }
   ],
   "source": [
    "print(issue_book(1))"
   ]
  },
  {
   "cell_type": "code",
   "execution_count": 14,
   "id": "cf638c89-f751-4ac4-a587-0ea41007731d",
   "metadata": {},
   "outputs": [
    {
     "name": "stdout",
     "output_type": "stream",
     "text": [
      "Book returned successfully.\n"
     ]
    }
   ],
   "source": [
    "print(return_book(1))"
   ]
  },
  {
   "cell_type": "code",
   "execution_count": 15,
   "id": "1bd683ee-5cae-4515-be81-df6d3584a0b3",
   "metadata": {},
   "outputs": [
    {
     "name": "stdout",
     "output_type": "stream",
     "text": [
      "[(1, 'Python Crash Course', 'Eric Matthes', 2019, '12345', 3)]\n"
     ]
    }
   ],
   "source": [
    "delete_book(2)\n",
    "print(view_books())"
   ]
  },
  {
   "cell_type": "code",
   "execution_count": 16,
   "id": "f60a4d3f-f584-4530-aaba-38da91ec069a",
   "metadata": {},
   "outputs": [
    {
     "name": "stdout",
     "output_type": "stream",
     "text": [
      "\n",
      "📚 Library Management System\n",
      "1. Add Book\n",
      "2. View All Books\n",
      "3. Search Book\n",
      "4. Update Book\n",
      "5. Delete Book\n",
      "6. Issue Book\n",
      "7. Return Book\n",
      "8. Exit\n"
     ]
    },
    {
     "name": "stdin",
     "output_type": "stream",
     "text": [
      "Enter choice:  2\n"
     ]
    },
    {
     "name": "stdout",
     "output_type": "stream",
     "text": [
      "(1, 'Python Crash Course', 'Eric Matthes', 2019, '12345', 3)\n",
      "\n",
      "📚 Library Management System\n",
      "1. Add Book\n",
      "2. View All Books\n",
      "3. Search Book\n",
      "4. Update Book\n",
      "5. Delete Book\n",
      "6. Issue Book\n",
      "7. Return Book\n",
      "8. Exit\n"
     ]
    },
    {
     "name": "stdin",
     "output_type": "stream",
     "text": [
      "Enter choice:  8\n"
     ]
    },
    {
     "name": "stdout",
     "output_type": "stream",
     "text": [
      "👋 Exiting Library System...\n"
     ]
    }
   ],
   "source": [
    "def menu():\n",
    "    while True:\n",
    "        print(\"\\n📚 Library Management System\")\n",
    "        print(\"1. Add Book\")\n",
    "        print(\"2. View All Books\")\n",
    "        print(\"3. Search Book\")\n",
    "        print(\"4. Update Book\")\n",
    "        print(\"5. Delete Book\")\n",
    "        print(\"6. Issue Book\")\n",
    "        print(\"7. Return Book\")\n",
    "        print(\"8. Exit\")\n",
    "\n",
    "        choice = input(\"Enter choice: \")\n",
    "\n",
    "        if choice == \"1\":\n",
    "            title = input(\"Enter title: \")\n",
    "            author = input(\"Enter author: \")\n",
    "            year = int(input(\"Enter year: \"))\n",
    "            isbn = input(\"Enter ISBN: \")\n",
    "            copies = int(input(\"Enter number of copies: \"))\n",
    "            add_book(title, author, year, isbn, copies)\n",
    "            print(\"✅ Book added successfully!\")\n",
    "\n",
    "        elif choice == \"2\":\n",
    "            for row in view_books():\n",
    "                print(row)\n",
    "\n",
    "        elif choice == \"3\":\n",
    "            keyword = input(\"Enter title/author keyword: \")\n",
    "            for row in search_books(keyword):\n",
    "                print(row)\n",
    "\n",
    "        elif choice == \"4\":\n",
    "            book_id = int(input(\"Enter Book ID to update: \"))\n",
    "            title = input(\"Enter new title: \")\n",
    "            author = input(\"Enter new author: \")\n",
    "            year = int(input(\"Enter new year: \"))\n",
    "            isbn = input(\"Enter new ISBN: \")\n",
    "            copies = int(input(\"Enter new number of copies: \"))\n",
    "            update_book(book_id, title, author, year, isbn, copies)\n",
    "            print(\"✅ Book updated!\")\n",
    "\n",
    "        elif choice == \"5\":\n",
    "            book_id = int(input(\"Enter Book ID to delete: \"))\n",
    "            delete_book(book_id)\n",
    "            print(\"❌ Book deleted!\")\n",
    "\n",
    "        elif choice == \"6\":\n",
    "            book_id = int(input(\"Enter Book ID to issue: \"))\n",
    "            print(issue_book(book_id))\n",
    "\n",
    "        elif choice == \"7\":\n",
    "            book_id = int(input(\"Enter Book ID to return: \"))\n",
    "            print(return_book(book_id))\n",
    "\n",
    "        elif choice == \"8\":\n",
    "            print(\"👋 Exiting Library System...\")\n",
    "            break\n",
    "\n",
    "        else:\n",
    "            print(\"⚠️ Invalid choice, try again.\")\n",
    "\n",
    "menu()"
   ]
  },
  {
   "cell_type": "code",
   "execution_count": null,
   "id": "3adc1e87-ccba-46a9-9b5f-80829511a616",
   "metadata": {},
   "outputs": [],
   "source": []
  }
 ],
 "metadata": {
  "kernelspec": {
   "display_name": "Python 3 (ipykernel)",
   "language": "python",
   "name": "python3"
  },
  "language_info": {
   "codemirror_mode": {
    "name": "ipython",
    "version": 3
   },
   "file_extension": ".py",
   "mimetype": "text/x-python",
   "name": "python",
   "nbconvert_exporter": "python",
   "pygments_lexer": "ipython3",
   "version": "3.11.5"
  }
 },
 "nbformat": 4,
 "nbformat_minor": 5
}
